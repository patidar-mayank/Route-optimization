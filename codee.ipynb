{
  "nbformat": 4,
  "nbformat_minor": 0,
  "metadata": {
    "colab": {
      "provenance": [],
      "gpuType": "T4"
    },
    "kernelspec": {
      "name": "python3",
      "display_name": "Python 3"
    },
    "language_info": {
      "name": "python"
    },
    "accelerator": "GPU"
  },
  "cells": [
    {
      "cell_type": "code",
      "source": [
        "from ortools.constraint_solver import routing_enums_pb2\n",
        "from ortools.constraint_solver import pywrapcp\n",
        "import numpy as np\n",
        "\n",
        "def euclidean_distance(xy1, xy2):\n",
        "    return np.linalg.norm(np.array(xy1) - np.array(xy2))\n",
        "\n",
        "locations = {\n",
        "    \"Parul University\": (22.3184, 73.1812),\n",
        "    \"Sayaji Baug Zoo\": (22.3095, 73.1880),\n",
        "    \"Waghodia Road\": (22.3078, 73.1910)\n",
        "}\n",
        "destination = (22.3033, 73.1818)  # Vadodara Railway Station\n",
        "\n",
        "\n",
        "location_names = list(locations.keys())\n",
        "num_locations = len(location_names)\n",
        "distance_matrix = np.zeros((num_locations + 1, num_locations + 1))\n",
        "\n",
        "\n",
        "for i, loc1 in enumerate(location_names):\n",
        "    for j, loc2 in enumerate(location_names):\n",
        "        if i != j:\n",
        "            distance_matrix[i][j] = euclidean_distance(locations[loc1], locations[loc2])\n",
        "    distance_matrix[i][num_locations] = euclidean_distance(locations[loc1], destination)\n",
        "\n",
        "\n",
        "for j in range(num_locations):\n",
        "    distance_matrix[num_locations][j] = euclidean_distance(destination, locations[location_names[j]])\n",
        "\n",
        "\n",
        "distance_matrix[num_locations][num_locations] = 0\n",
        "\n",
        "print(\"Distance Matrix:\")\n",
        "print(distance_matrix)\n",
        "\n",
        "\n",
        "def create_data_model():\n",
        "    data = {}\n",
        "    data['distance_matrix'] = distance_matrix\n",
        "    data['num_vehicles'] = 1\n",
        "    data['depot'] = 0\n",
        "    return data\n",
        "\n",
        "data = create_data_model()\n",
        "manager = pywrapcp.RoutingIndexManager(len(data['distance_matrix']),\n",
        "                                         data['num_vehicles'], data['depot'])\n",
        "routing = pywrapcp.RoutingModel(manager)\n",
        "search_parameters = pywrapcp.DefaultRoutingSearchParameters()\n",
        "search_parameters.first_solution_strategy = (routing_enums_pb2.FirstSolutionStrategy.PATH_CHEAPEST_ARC)\n",
        "\n",
        "def distance_callback(from_index, to_index):\n",
        "    from_node = manager.IndexToNode(from_index)\n",
        "    to_node = manager.IndexToNode(to_index)\n",
        "    if from_node < len(data['distance_matrix']) and to_node < len(data['distance_matrix']):\n",
        "        return int(data['distance_matrix'][from_node][to_node])\n",
        "    else:\n",
        "        raise IndexError(\"Node index out of range\")\n",
        "\n",
        "\n",
        "distance_callback_index = routing.RegisterTransitCallback(distance_callback)\n",
        "routing.SetArcCostEvaluatorOfAllVehicles(distance_callback_index)\n",
        "\n",
        "solution = routing.SolveWithParameters(search_parameters)\n",
        "\n",
        "\n",
        "def print_solution(manager, routing, solution):\n",
        "    index = routing.Start(0)\n",
        "    route_distance = 0\n",
        "    route = []\n",
        "    while not routing.IsEnd(index):\n",
        "        node_index = manager.IndexToNode(index)\n",
        "        if node_index < len(location_names):\n",
        "            route.append(location_names[node_index])\n",
        "        next_index = solution.Value(routing.NextVar(index))\n",
        "        route_distance += distance_matrix[node_index][manager.IndexToNode(next_index)]\n",
        "        index = next_index\n",
        "    route.append(\"Destination\")\n",
        "    route_distance += distance_matrix[manager.IndexToNode(index)][num_locations]\n",
        "\n",
        "    print(f'Objective: {route_distance} meters')\n",
        "    print('Route:')\n",
        "    print(' -> '.join(route))\n",
        "\n",
        "if solution:\n",
        "    print_solution(manager, routing, solution)\n",
        "else:\n",
        "    print('No solution found!')\n"
      ],
      "metadata": {
        "id": "18-dWyG0w7d4",
        "outputId": "9d95c149-82a8-4e5b-c7e4-169fd3093230",
        "colab": {
          "base_uri": "https://localhost:8080/"
        }
      },
      "execution_count": 24,
      "outputs": [
        {
          "output_type": "stream",
          "name": "stdout",
          "text": [
            "Distance Matrix:\n",
            "[[0.         0.01120045 0.01443607 0.01511192]\n",
            " [0.01120045 0.         0.00344819 0.00876812]\n",
            " [0.01443607 0.00344819 0.         0.01024158]\n",
            " [0.01511192 0.00876812 0.01024158 0.        ]]\n",
            "Objective: 0.055114047915146826 meters\n",
            "Route:\n",
            "Parul University -> Waghodia Road -> Sayaji Baug Zoo -> Destination\n"
          ]
        }
      ]
    },
    {
      "cell_type": "code",
      "source": [
        "# import folium package\n",
        "import folium\n"
      ],
      "metadata": {
        "id": "7A09sfadyHxj"
      },
      "execution_count": 7,
      "outputs": []
    },
    {
      "cell_type": "code",
      "source": [
        "from branca.element import Figure\n",
        "fig=Figure(width=550,height=350)"
      ],
      "metadata": {
        "id": "ta9eyX294dLT"
      },
      "execution_count": 8,
      "outputs": []
    },
    {
      "cell_type": "code",
      "source": [
        "coords_1=[22.3184, 73.1812]\n",
        "\n",
        "coords_2=[22.3095, 73.1880]\n",
        "\n",
        "coords_3=[22.3078, 73.1910]\n"
      ],
      "metadata": {
        "id": "29dsne1W85dJ"
      },
      "execution_count": 9,
      "outputs": []
    },
    {
      "cell_type": "code",
      "source": [
        " import folium\n",
        "\n",
        "# Define the coordinates for paths\n",
        "path_1_coords = [(22.3184, 73.1812), (22.3195, 73.1820), (22.3200, 73.1830)]\n",
        "path_2_coords = [(22.3184, 73.1812), (22.3200, 73.1850), (22.3210, 73.1860)]\n",
        "\n",
        "# Define the coordinates for data points\n",
        "data_points = {\n",
        "    \"Point A\": (22.3184, 73.1812),\n",
        "    \"Point B\": (22.3195, 73.1820),\n",
        "    \"Point C\": (22.3200, 73.1830),\n",
        "}\n",
        "\n",
        "# Create a Folium map centered on the initial location\n",
        "m = folium.Map(location=(22.3184, 73.1812), zoom_start=13)\n",
        "\n",
        "# Add paths as polylines\n",
        "folium.PolyLine(locations=path_1_coords, color='blue', weight=5, popup='Path 1').add_to(m)\n",
        "folium.PolyLine(locations=path_2_coords, color='red', weight=5, popup='Path 2').add_to(m)\n",
        "\n",
        "# Add markers for data points\n",
        "for name, coord in data_points.items():\n",
        "    folium.Marker(location=coord, popup=name, icon=folium.Icon(color='black')).add_to(m)\n",
        "\n",
        "# Add layer control (optional)\n",
        "folium.LayerControl().add_to(m)\n",
        "\n",
        "# Save the map to an HTML file\n",
        "m.save(\"map_with_paths.html\")\n"
      ],
      "metadata": {
        "id": "xlevvJ1q9-Nw"
      },
      "execution_count": 11,
      "outputs": []
    },
    {
      "cell_type": "code",
      "source": [],
      "metadata": {
        "id": "J_hgEA7b-1Gq"
      },
      "execution_count": null,
      "outputs": []
    }
  ]
}